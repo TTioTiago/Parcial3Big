{
  "nbformat": 4,
  "nbformat_minor": 0,
  "metadata": {
    "colab": {
      "provenance": []
    },
    "kernelspec": {
      "name": "python3",
      "display_name": "Python 3"
    },
    "language_info": {
      "name": "python"
    }
  },
  "cells": [
    {
      "cell_type": "code",
      "execution_count": null,
      "metadata": {
        "id": "u4YM1ELczEm7"
      },
      "outputs": [],
      "source": [
        "import boto3\n",
        "import requests\n",
        "from datetime import datetime\n",
        "\n",
        "# === CONFIGURACIÓN ===\n",
        "BUCKET = \"headlinesjobs\"  # Reemplaza con tu bucket\n",
        "S3_PREFIX = \"headlines/raw/\"\n",
        "HEADERS = {\"User-Agent\": \"Mozilla/5.0\"}\n",
        "\n",
        "# === SITIOS A DESCARGAR ===\n",
        "sites = {\n",
        "    \"eltiempo\": \"https://www.eltiempo.com/\",\n",
        "}\n",
        "\n",
        "# === FECHA ACTUAL ===\n",
        "today = datetime.utcnow().strftime(\"%Y-%m-%d\")\n",
        "\n",
        "# === INICIALIZAR CLIENTE S3 ===\n",
        "s3 = boto3.client(\"s3\")\n",
        "\n",
        "# === DESCARGAR Y GUARDAR HTML EN S3 ===\n",
        "for site_name, url in sites.items():\n",
        "    print(f\"🔽 Descargando {url}\")\n",
        "    try:\n",
        "        response = requests.get(url, headers=HEADERS, timeout=15)\n",
        "        response.raise_for_status()\n",
        "        html_content = response.text\n",
        "\n",
        "        # Ruta de destino en S3\n",
        "        filename = f\"{S3_PREFIX}contenido-{site_name}-{today}.html\"\n",
        "\n",
        "        # Subir a S3\n",
        "        s3.put_object(\n",
        "            Bucket=BUCKET,\n",
        "            Key=filename,\n",
        "            Body=html_content.encode(\"utf-8\"),\n",
        "            ContentType=\"text/html\"\n",
        "        )\n",
        "        print(f\"✅ Guardado: s3://{BUCKET}/{filename}\")\n",
        "\n",
        "    except Exception as e:\n",
        "        print(f\"❌ Error al procesar {url}: {e}\")\n"
      ]
    }
  ]
}